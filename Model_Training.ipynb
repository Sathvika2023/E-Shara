{
  "nbformat": 4,
  "nbformat_minor": 0,
  "metadata": {
    "colab": {
      "provenance": [],
      "gpuType": "T4",
      "include_colab_link": true
    },
    "kernelspec": {
      "name": "python3",
      "display_name": "Python 3"
    },
    "language_info": {
      "name": "python"
    },
    "accelerator": "GPU"
  },
  "cells": [
    {
      "cell_type": "markdown",
      "metadata": {
        "id": "view-in-github",
        "colab_type": "text"
      },
      "source": [
        "<a href=\"https://colab.research.google.com/github/ayushijainn111/E-Shara/blob/main/Model_Training.ipynb\" target=\"_parent\"><img src=\"https://colab.research.google.com/assets/colab-badge.svg\" alt=\"Open In Colab\"/></a>"
      ]
    },
    {
      "cell_type": "code",
      "source": [
        "# pip install gdown"
      ],
      "metadata": {
        "id": "yhxzyfGo4rvT"
      },
      "execution_count": 3,
      "outputs": []
    },
    {
      "cell_type": "code",
      "execution_count": 4,
      "metadata": {
        "id": "6KUUSEmazyGH"
      },
      "outputs": [],
      "source": [
        "# import gdown\n",
        "\n",
        "# # Use the file ID from the URL\n",
        "# file_id = \"1jQKp_4wQl7ElcMUY5tT2gLyx6GLteBkJ\"\n",
        "# url = f\"https://drive.google.com/uc?export=download&id={file_id}\"\n",
        "\n",
        "# # Download the file and save it as 'images.zip'\n",
        "# gdown.download(url, \"images.zip\", quiet=False)\n"
      ]
    },
    {
      "cell_type": "code",
      "source": [
        "# import zipfile\n",
        "\n",
        "# # Unzip the downloaded file\n",
        "# with zipfile.ZipFile(\"images.zip\", \"r\") as zip_ref:\n",
        "#     zip_ref.extractall(\"images\")  # Extract to a folder named 'images'\n"
      ],
      "metadata": {
        "id": "A7jwbq8u4pun"
      },
      "execution_count": 5,
      "outputs": []
    },
    {
      "cell_type": "code",
      "source": [
        "# ls"
      ],
      "metadata": {
        "id": "fP1dz2jf5VN8"
      },
      "execution_count": 6,
      "outputs": []
    },
    {
      "cell_type": "code",
      "source": [
        "# import zipfile\n",
        "\n",
        "# !wget https://drive.google.com/file/d/1jQKp_4wQl7ElcMUY5tT2gLyx6GLteBkJ/view?usp=sharing\n",
        "\n",
        "# # Unzip the downloaded file\n",
        "# zip_ref = zipfile.ZipFile(\"images.zip\")\n",
        "# zip_ref.extractall()\n",
        "# zip_ref.close()"
      ],
      "metadata": {
        "id": "XiaHs_oT5_Zj"
      },
      "execution_count": 11,
      "outputs": []
    },
    {
      "cell_type": "code",
      "source": [
        "!pip install gdown\n",
        "import gdown\n",
        "import zipfile\n",
        "\n",
        "# Use the file ID from the URL\n",
        "file_id = \"1jQKp_4wQl7ElcMUY5tT2gLyx6GLteBkJ\"\n",
        "url = f\"https://drive.google.com/uc?id={file_id}\"\n",
        "\n",
        "# Download the file and save it as 'images.zip'\n",
        "gdown.download(url, \"images.zip\", quiet=False)\n",
        "\n",
        "\n",
        "# Unzip the downloaded file\n",
        "with zipfile.ZipFile(\"images.zip\", \"r\") as zip_ref:\n",
        "    zip_ref.extractall()  # Extract to a folder"
      ],
      "metadata": {
        "colab": {
          "base_uri": "https://localhost:8080/"
        },
        "id": "_5Bo_eoB_lGz",
        "outputId": "f94086f0-ba10-48aa-fb28-3fa51f0ab366"
      },
      "execution_count": 10,
      "outputs": [
        {
          "output_type": "stream",
          "name": "stdout",
          "text": [
            "Requirement already satisfied: gdown in /usr/local/lib/python3.10/dist-packages (5.2.0)\n",
            "Requirement already satisfied: beautifulsoup4 in /usr/local/lib/python3.10/dist-packages (from gdown) (4.12.3)\n",
            "Requirement already satisfied: filelock in /usr/local/lib/python3.10/dist-packages (from gdown) (3.16.1)\n",
            "Requirement already satisfied: requests[socks] in /usr/local/lib/python3.10/dist-packages (from gdown) (2.32.3)\n",
            "Requirement already satisfied: tqdm in /usr/local/lib/python3.10/dist-packages (from gdown) (4.66.6)\n",
            "Requirement already satisfied: soupsieve>1.2 in /usr/local/lib/python3.10/dist-packages (from beautifulsoup4->gdown) (2.6)\n",
            "Requirement already satisfied: charset-normalizer<4,>=2 in /usr/local/lib/python3.10/dist-packages (from requests[socks]->gdown) (3.4.0)\n",
            "Requirement already satisfied: idna<4,>=2.5 in /usr/local/lib/python3.10/dist-packages (from requests[socks]->gdown) (3.10)\n",
            "Requirement already satisfied: urllib3<3,>=1.21.1 in /usr/local/lib/python3.10/dist-packages (from requests[socks]->gdown) (2.2.3)\n",
            "Requirement already satisfied: certifi>=2017.4.17 in /usr/local/lib/python3.10/dist-packages (from requests[socks]->gdown) (2024.8.30)\n",
            "Requirement already satisfied: PySocks!=1.5.7,>=1.5.6 in /usr/local/lib/python3.10/dist-packages (from requests[socks]->gdown) (1.7.1)\n"
          ]
        },
        {
          "output_type": "stream",
          "name": "stderr",
          "text": [
            "Downloading...\n",
            "From (original): https://drive.google.com/uc?id=1jQKp_4wQl7ElcMUY5tT2gLyx6GLteBkJ\n",
            "From (redirected): https://drive.google.com/uc?id=1jQKp_4wQl7ElcMUY5tT2gLyx6GLteBkJ&confirm=t&uuid=96dacee3-0a05-43c4-be6e-5c6301bc1881\n",
            "To: /content/images.zip\n",
            "100%|██████████| 570M/570M [00:07<00:00, 72.1MB/s]\n"
          ]
        }
      ]
    },
    {
      "cell_type": "code",
      "source": [
        "!ls images"
      ],
      "metadata": {
        "colab": {
          "base_uri": "https://localhost:8080/"
        },
        "id": "nkd2sIch6N_g",
        "outputId": "0395687d-15e5-462c-f4e0-5aa6e7fecb4f"
      },
      "execution_count": 12,
      "outputs": [
        {
          "output_type": "stream",
          "name": "stdout",
          "text": [
            "Indian\ttest  train\n"
          ]
        }
      ]
    },
    {
      "cell_type": "code",
      "source": [
        "!ls /content/images/Indian"
      ],
      "metadata": {
        "colab": {
          "base_uri": "https://localhost:8080/"
        },
        "id": "RPpsh8Bf6jL0",
        "outputId": "8612d5e8-13bf-4b5a-bcb7-48a2b02b557c"
      },
      "execution_count": 13,
      "outputs": [
        {
          "output_type": "stream",
          "name": "stdout",
          "text": [
            "1  3  5  7  9  B  D  F\tH  J  L  N  P  R  T  V\tX  Z\n",
            "2  4  6  8  A  C  E  G\tI  K  M  O  Q  S  U  W\tY\n"
          ]
        }
      ]
    },
    {
      "cell_type": "code",
      "source": [
        "!ls /content/images/Indian/1"
      ],
      "metadata": {
        "colab": {
          "base_uri": "https://localhost:8080/"
        },
        "id": "oa3UrcrA6o-C",
        "outputId": "afc77c3e-e376-42ab-932d-4c611e636e7e"
      },
      "execution_count": 14,
      "outputs": [
        {
          "output_type": "stream",
          "name": "stdout",
          "text": [
            "0.jpg\t  1108.jpg  136.jpg  244.jpg  352.jpg  460.jpg\t569.jpg  677.jpg  785.jpg  893.jpg\n",
            "1000.jpg  1109.jpg  137.jpg  245.jpg  353.jpg  461.jpg\t56.jpg\t 678.jpg  786.jpg  894.jpg\n",
            "1001.jpg  110.jpg   138.jpg  246.jpg  354.jpg  462.jpg\t570.jpg  679.jpg  787.jpg  895.jpg\n",
            "1002.jpg  1110.jpg  139.jpg  247.jpg  355.jpg  463.jpg\t571.jpg  67.jpg   788.jpg  896.jpg\n",
            "1003.jpg  1111.jpg  13.jpg   248.jpg  356.jpg  464.jpg\t572.jpg  680.jpg  789.jpg  897.jpg\n",
            "1004.jpg  1112.jpg  140.jpg  249.jpg  357.jpg  465.jpg\t573.jpg  681.jpg  78.jpg   898.jpg\n",
            "1005.jpg  1113.jpg  141.jpg  24.jpg   358.jpg  466.jpg\t574.jpg  682.jpg  790.jpg  899.jpg\n",
            "1006.jpg  1114.jpg  142.jpg  250.jpg  359.jpg  467.jpg\t575.jpg  683.jpg  791.jpg  89.jpg\n",
            "1007.jpg  1115.jpg  143.jpg  251.jpg  35.jpg   468.jpg\t576.jpg  684.jpg  792.jpg  8.jpg\n",
            "1008.jpg  1116.jpg  144.jpg  252.jpg  360.jpg  469.jpg\t577.jpg  685.jpg  793.jpg  900.jpg\n",
            "1009.jpg  1117.jpg  145.jpg  253.jpg  361.jpg  46.jpg\t578.jpg  686.jpg  794.jpg  901.jpg\n",
            "100.jpg   1118.jpg  146.jpg  254.jpg  362.jpg  470.jpg\t579.jpg  687.jpg  795.jpg  902.jpg\n",
            "1010.jpg  1119.jpg  147.jpg  255.jpg  363.jpg  471.jpg\t57.jpg\t 688.jpg  796.jpg  903.jpg\n",
            "1011.jpg  111.jpg   148.jpg  256.jpg  364.jpg  472.jpg\t580.jpg  689.jpg  797.jpg  904.jpg\n",
            "1012.jpg  1120.jpg  149.jpg  257.jpg  365.jpg  473.jpg\t581.jpg  68.jpg   798.jpg  905.jpg\n",
            "1013.jpg  1121.jpg  14.jpg   258.jpg  366.jpg  474.jpg\t582.jpg  690.jpg  799.jpg  906.jpg\n",
            "1014.jpg  1122.jpg  150.jpg  259.jpg  367.jpg  475.jpg\t583.jpg  691.jpg  79.jpg   907.jpg\n",
            "1015.jpg  1123.jpg  151.jpg  25.jpg   368.jpg  476.jpg\t584.jpg  692.jpg  7.jpg    908.jpg\n",
            "1016.jpg  1124.jpg  152.jpg  260.jpg  369.jpg  477.jpg\t585.jpg  693.jpg  800.jpg  909.jpg\n",
            "1017.jpg  1125.jpg  153.jpg  261.jpg  36.jpg   478.jpg\t586.jpg  694.jpg  801.jpg  90.jpg\n",
            "1018.jpg  1126.jpg  154.jpg  262.jpg  370.jpg  479.jpg\t587.jpg  695.jpg  802.jpg  910.jpg\n",
            "1019.jpg  1127.jpg  155.jpg  263.jpg  371.jpg  47.jpg\t588.jpg  696.jpg  803.jpg  911.jpg\n",
            "101.jpg   1128.jpg  156.jpg  264.jpg  372.jpg  480.jpg\t589.jpg  697.jpg  804.jpg  912.jpg\n",
            "1020.jpg  1129.jpg  157.jpg  265.jpg  373.jpg  481.jpg\t58.jpg\t 698.jpg  805.jpg  913.jpg\n",
            "1021.jpg  112.jpg   158.jpg  266.jpg  374.jpg  482.jpg\t590.jpg  699.jpg  806.jpg  914.jpg\n",
            "1022.jpg  1130.jpg  159.jpg  267.jpg  375.jpg  483.jpg\t591.jpg  69.jpg   807.jpg  915.jpg\n",
            "1023.jpg  1131.jpg  15.jpg   268.jpg  376.jpg  484.jpg\t592.jpg  6.jpg\t  808.jpg  916.jpg\n",
            "1024.jpg  1132.jpg  160.jpg  269.jpg  377.jpg  485.jpg\t593.jpg  700.jpg  809.jpg  917.jpg\n",
            "1025.jpg  1133.jpg  161.jpg  26.jpg   378.jpg  486.jpg\t594.jpg  701.jpg  80.jpg   918.jpg\n",
            "1026.jpg  1134.jpg  162.jpg  270.jpg  379.jpg  487.jpg\t595.jpg  702.jpg  810.jpg  919.jpg\n",
            "1027.jpg  1135.jpg  163.jpg  271.jpg  37.jpg   488.jpg\t596.jpg  703.jpg  811.jpg  91.jpg\n",
            "1028.jpg  1136.jpg  164.jpg  272.jpg  380.jpg  489.jpg\t597.jpg  704.jpg  812.jpg  920.jpg\n",
            "1029.jpg  1137.jpg  165.jpg  273.jpg  381.jpg  48.jpg\t598.jpg  705.jpg  813.jpg  921.jpg\n",
            "102.jpg   1138.jpg  166.jpg  274.jpg  382.jpg  490.jpg\t599.jpg  706.jpg  814.jpg  922.jpg\n",
            "1030.jpg  1139.jpg  167.jpg  275.jpg  383.jpg  491.jpg\t59.jpg\t 707.jpg  815.jpg  923.jpg\n",
            "1031.jpg  113.jpg   168.jpg  276.jpg  384.jpg  492.jpg\t5.jpg\t 708.jpg  816.jpg  924.jpg\n",
            "1032.jpg  1140.jpg  169.jpg  277.jpg  385.jpg  493.jpg\t600.jpg  709.jpg  817.jpg  925.jpg\n",
            "1033.jpg  1141.jpg  16.jpg   278.jpg  386.jpg  494.jpg\t601.jpg  70.jpg   818.jpg  926.jpg\n",
            "1034.jpg  1142.jpg  170.jpg  279.jpg  387.jpg  495.jpg\t602.jpg  710.jpg  819.jpg  927.jpg\n",
            "1035.jpg  1143.jpg  171.jpg  27.jpg   388.jpg  496.jpg\t603.jpg  711.jpg  81.jpg   928.jpg\n",
            "1036.jpg  1144.jpg  172.jpg  280.jpg  389.jpg  497.jpg\t604.jpg  712.jpg  820.jpg  929.jpg\n",
            "1037.jpg  1145.jpg  173.jpg  281.jpg  38.jpg   498.jpg\t605.jpg  713.jpg  821.jpg  92.jpg\n",
            "1038.jpg  1146.jpg  174.jpg  282.jpg  390.jpg  499.jpg\t606.jpg  714.jpg  822.jpg  930.jpg\n",
            "1039.jpg  1147.jpg  175.jpg  283.jpg  391.jpg  49.jpg\t607.jpg  715.jpg  823.jpg  931.jpg\n",
            "103.jpg   1148.jpg  176.jpg  284.jpg  392.jpg  4.jpg\t608.jpg  716.jpg  824.jpg  932.jpg\n",
            "1040.jpg  1149.jpg  177.jpg  285.jpg  393.jpg  500.jpg\t609.jpg  717.jpg  825.jpg  933.jpg\n",
            "1041.jpg  114.jpg   178.jpg  286.jpg  394.jpg  501.jpg\t60.jpg\t 718.jpg  826.jpg  934.jpg\n",
            "1042.jpg  1150.jpg  179.jpg  287.jpg  395.jpg  502.jpg\t610.jpg  719.jpg  827.jpg  935.jpg\n",
            "1043.jpg  1151.jpg  17.jpg   288.jpg  396.jpg  503.jpg\t611.jpg  71.jpg   828.jpg  936.jpg\n",
            "1044.jpg  1152.jpg  180.jpg  289.jpg  397.jpg  504.jpg\t612.jpg  720.jpg  829.jpg  937.jpg\n",
            "1045.jpg  1153.jpg  181.jpg  28.jpg   398.jpg  505.jpg\t613.jpg  721.jpg  82.jpg   938.jpg\n",
            "1046.jpg  1154.jpg  182.jpg  290.jpg  399.jpg  506.jpg\t614.jpg  722.jpg  830.jpg  939.jpg\n",
            "1047.jpg  1155.jpg  183.jpg  291.jpg  39.jpg   507.jpg\t615.jpg  723.jpg  831.jpg  93.jpg\n",
            "1048.jpg  1156.jpg  184.jpg  292.jpg  3.jpg    508.jpg\t616.jpg  724.jpg  832.jpg  940.jpg\n",
            "1049.jpg  1157.jpg  185.jpg  293.jpg  400.jpg  509.jpg\t617.jpg  725.jpg  833.jpg  941.jpg\n",
            "104.jpg   1158.jpg  186.jpg  294.jpg  401.jpg  50.jpg\t618.jpg  726.jpg  834.jpg  942.jpg\n",
            "1050.jpg  1159.jpg  187.jpg  295.jpg  402.jpg  510.jpg\t619.jpg  727.jpg  835.jpg  943.jpg\n",
            "1051.jpg  115.jpg   188.jpg  296.jpg  403.jpg  511.jpg\t61.jpg\t 728.jpg  836.jpg  944.jpg\n",
            "1052.jpg  1160.jpg  189.jpg  297.jpg  404.jpg  512.jpg\t620.jpg  729.jpg  837.jpg  945.jpg\n",
            "1053.jpg  1161.jpg  18.jpg   298.jpg  405.jpg  513.jpg\t621.jpg  72.jpg   838.jpg  946.jpg\n",
            "1054.jpg  1162.jpg  190.jpg  299.jpg  406.jpg  514.jpg\t622.jpg  730.jpg  839.jpg  947.jpg\n",
            "1055.jpg  1163.jpg  191.jpg  29.jpg   407.jpg  515.jpg\t623.jpg  731.jpg  83.jpg   948.jpg\n",
            "1056.jpg  1164.jpg  192.jpg  2.jpg    408.jpg  516.jpg\t624.jpg  732.jpg  840.jpg  949.jpg\n",
            "1057.jpg  1165.jpg  193.jpg  300.jpg  409.jpg  517.jpg\t625.jpg  733.jpg  841.jpg  94.jpg\n",
            "1058.jpg  1166.jpg  194.jpg  301.jpg  40.jpg   518.jpg\t626.jpg  734.jpg  842.jpg  950.jpg\n",
            "1059.jpg  1167.jpg  195.jpg  302.jpg  410.jpg  519.jpg\t627.jpg  735.jpg  843.jpg  951.jpg\n",
            "105.jpg   1168.jpg  196.jpg  303.jpg  411.jpg  51.jpg\t628.jpg  736.jpg  844.jpg  952.jpg\n",
            "1060.jpg  1169.jpg  197.jpg  304.jpg  412.jpg  520.jpg\t629.jpg  737.jpg  845.jpg  953.jpg\n",
            "1061.jpg  116.jpg   198.jpg  305.jpg  413.jpg  521.jpg\t62.jpg\t 738.jpg  846.jpg  954.jpg\n",
            "1062.jpg  1170.jpg  199.jpg  306.jpg  414.jpg  522.jpg\t630.jpg  739.jpg  847.jpg  955.jpg\n",
            "1063.jpg  1171.jpg  19.jpg   307.jpg  415.jpg  523.jpg\t631.jpg  73.jpg   848.jpg  956.jpg\n",
            "1064.jpg  1172.jpg  1.jpg    308.jpg  416.jpg  524.jpg\t632.jpg  740.jpg  849.jpg  957.jpg\n",
            "1065.jpg  1173.jpg  200.jpg  309.jpg  417.jpg  525.jpg\t633.jpg  741.jpg  84.jpg   958.jpg\n",
            "1066.jpg  1174.jpg  201.jpg  30.jpg   418.jpg  526.jpg\t634.jpg  742.jpg  850.jpg  959.jpg\n",
            "1067.jpg  1175.jpg  202.jpg  310.jpg  419.jpg  527.jpg\t635.jpg  743.jpg  851.jpg  95.jpg\n",
            "1068.jpg  1176.jpg  203.jpg  311.jpg  41.jpg   528.jpg\t636.jpg  744.jpg  852.jpg  960.jpg\n",
            "1069.jpg  1177.jpg  204.jpg  312.jpg  420.jpg  529.jpg\t637.jpg  745.jpg  853.jpg  961.jpg\n",
            "106.jpg   1178.jpg  205.jpg  313.jpg  421.jpg  52.jpg\t638.jpg  746.jpg  854.jpg  962.jpg\n",
            "1070.jpg  1179.jpg  206.jpg  314.jpg  422.jpg  530.jpg\t639.jpg  747.jpg  855.jpg  963.jpg\n",
            "1071.jpg  117.jpg   207.jpg  315.jpg  423.jpg  531.jpg\t63.jpg\t 748.jpg  856.jpg  964.jpg\n",
            "1072.jpg  1180.jpg  208.jpg  316.jpg  424.jpg  532.jpg\t640.jpg  749.jpg  857.jpg  965.jpg\n",
            "1073.jpg  1181.jpg  209.jpg  317.jpg  425.jpg  533.jpg\t641.jpg  74.jpg   858.jpg  966.jpg\n",
            "1074.jpg  1182.jpg  20.jpg   318.jpg  426.jpg  534.jpg\t642.jpg  750.jpg  859.jpg  967.jpg\n",
            "1075.jpg  1183.jpg  210.jpg  319.jpg  427.jpg  535.jpg\t643.jpg  751.jpg  85.jpg   968.jpg\n",
            "1076.jpg  1184.jpg  211.jpg  31.jpg   428.jpg  536.jpg\t644.jpg  752.jpg  860.jpg  969.jpg\n",
            "1077.jpg  1185.jpg  212.jpg  320.jpg  429.jpg  537.jpg\t645.jpg  753.jpg  861.jpg  96.jpg\n",
            "1078.jpg  1186.jpg  213.jpg  321.jpg  42.jpg   538.jpg\t646.jpg  754.jpg  862.jpg  970.jpg\n",
            "1079.jpg  1187.jpg  214.jpg  322.jpg  430.jpg  539.jpg\t647.jpg  755.jpg  863.jpg  971.jpg\n",
            "107.jpg   1188.jpg  215.jpg  323.jpg  431.jpg  53.jpg\t648.jpg  756.jpg  864.jpg  972.jpg\n",
            "1080.jpg  1189.jpg  216.jpg  324.jpg  432.jpg  540.jpg\t649.jpg  757.jpg  865.jpg  973.jpg\n",
            "1081.jpg  118.jpg   217.jpg  325.jpg  433.jpg  541.jpg\t64.jpg\t 758.jpg  866.jpg  974.jpg\n",
            "1082.jpg  1190.jpg  218.jpg  326.jpg  434.jpg  542.jpg\t650.jpg  759.jpg  867.jpg  975.jpg\n",
            "1083.jpg  1191.jpg  219.jpg  327.jpg  435.jpg  543.jpg\t651.jpg  75.jpg   868.jpg  976.jpg\n",
            "1084.jpg  1192.jpg  21.jpg   328.jpg  436.jpg  544.jpg\t652.jpg  760.jpg  869.jpg  977.jpg\n",
            "1085.jpg  1193.jpg  220.jpg  329.jpg  437.jpg  545.jpg\t653.jpg  761.jpg  86.jpg   978.jpg\n",
            "1086.jpg  1194.jpg  221.jpg  32.jpg   438.jpg  546.jpg\t654.jpg  762.jpg  870.jpg  979.jpg\n",
            "1087.jpg  1195.jpg  222.jpg  330.jpg  439.jpg  547.jpg\t655.jpg  763.jpg  871.jpg  97.jpg\n",
            "1088.jpg  1196.jpg  223.jpg  331.jpg  43.jpg   548.jpg\t656.jpg  764.jpg  872.jpg  980.jpg\n",
            "1089.jpg  1197.jpg  224.jpg  332.jpg  440.jpg  549.jpg\t657.jpg  765.jpg  873.jpg  981.jpg\n",
            "108.jpg   1198.jpg  225.jpg  333.jpg  441.jpg  54.jpg\t658.jpg  766.jpg  874.jpg  982.jpg\n",
            "1090.jpg  1199.jpg  226.jpg  334.jpg  442.jpg  550.jpg\t659.jpg  767.jpg  875.jpg  983.jpg\n",
            "1091.jpg  119.jpg   227.jpg  335.jpg  443.jpg  551.jpg\t65.jpg\t 768.jpg  876.jpg  984.jpg\n",
            "1092.jpg  11.jpg    228.jpg  336.jpg  444.jpg  552.jpg\t660.jpg  769.jpg  877.jpg  985.jpg\n",
            "1093.jpg  120.jpg   229.jpg  337.jpg  445.jpg  553.jpg\t661.jpg  76.jpg   878.jpg  986.jpg\n",
            "1094.jpg  121.jpg   22.jpg   338.jpg  446.jpg  554.jpg\t662.jpg  770.jpg  879.jpg  987.jpg\n",
            "1095.jpg  122.jpg   230.jpg  339.jpg  447.jpg  555.jpg\t663.jpg  771.jpg  87.jpg   988.jpg\n",
            "1096.jpg  123.jpg   231.jpg  33.jpg   448.jpg  556.jpg\t664.jpg  772.jpg  880.jpg  989.jpg\n",
            "1097.jpg  124.jpg   232.jpg  340.jpg  449.jpg  557.jpg\t665.jpg  773.jpg  881.jpg  98.jpg\n",
            "1098.jpg  125.jpg   233.jpg  341.jpg  44.jpg   558.jpg\t666.jpg  774.jpg  882.jpg  990.jpg\n",
            "1099.jpg  126.jpg   234.jpg  342.jpg  450.jpg  559.jpg\t667.jpg  775.jpg  883.jpg  991.jpg\n",
            "109.jpg   127.jpg   235.jpg  343.jpg  451.jpg  55.jpg\t668.jpg  776.jpg  884.jpg  992.jpg\n",
            "10.jpg\t  128.jpg   236.jpg  344.jpg  452.jpg  560.jpg\t669.jpg  777.jpg  885.jpg  993.jpg\n",
            "1100.jpg  129.jpg   237.jpg  345.jpg  453.jpg  561.jpg\t66.jpg\t 778.jpg  886.jpg  994.jpg\n",
            "1101.jpg  12.jpg    238.jpg  346.jpg  454.jpg  562.jpg\t670.jpg  779.jpg  887.jpg  995.jpg\n",
            "1102.jpg  130.jpg   239.jpg  347.jpg  455.jpg  563.jpg\t671.jpg  77.jpg   888.jpg  996.jpg\n",
            "1103.jpg  131.jpg   23.jpg   348.jpg  456.jpg  564.jpg\t672.jpg  780.jpg  889.jpg  997.jpg\n",
            "1104.jpg  132.jpg   240.jpg  349.jpg  457.jpg  565.jpg\t673.jpg  781.jpg  88.jpg   998.jpg\n",
            "1105.jpg  133.jpg   241.jpg  34.jpg   458.jpg  566.jpg\t674.jpg  782.jpg  890.jpg  999.jpg\n",
            "1106.jpg  134.jpg   242.jpg  350.jpg  459.jpg  567.jpg\t675.jpg  783.jpg  891.jpg  99.jpg\n",
            "1107.jpg  135.jpg   243.jpg  351.jpg  45.jpg   568.jpg\t676.jpg  784.jpg  892.jpg  9.jpg\n"
          ]
        }
      ]
    },
    {
      "cell_type": "code",
      "source": [
        "!ls /content/images/test"
      ],
      "metadata": {
        "colab": {
          "base_uri": "https://localhost:8080/"
        },
        "id": "Eua0PoQo62mN",
        "outputId": "53cae961-4ab6-44b8-c66f-37ba45539999"
      },
      "execution_count": 15,
      "outputs": [
        {
          "output_type": "stream",
          "name": "stdout",
          "text": [
            "1  3  5  7  9  B  D  F\tH  J  L  N  P  R  T  V\tX  Z\n",
            "2  4  6  8  A  C  E  G\tI  K  M  O  Q  S  U  W\tY\n"
          ]
        }
      ]
    },
    {
      "cell_type": "code",
      "source": [
        "import os\n",
        "\n",
        "# Walk through pizza_steak directory and list number of files\n",
        "for dirpath, dirnames, filenames in os.walk(\"images\"):\n",
        "  print(f\"There are {len(dirnames)} directories and {len(filenames)} images in '{dirpath}'.\")"
      ],
      "metadata": {
        "colab": {
          "base_uri": "https://localhost:8080/"
        },
        "id": "4MzZAuRT7FvN",
        "outputId": "6bef7701-997e-4148-df77-84fd1c571b10"
      },
      "execution_count": 16,
      "outputs": [
        {
          "output_type": "stream",
          "name": "stdout",
          "text": [
            "There are 3 directories and 0 images in 'images'.\n",
            "There are 35 directories and 0 images in 'images/test'.\n",
            "There are 0 directories and 286 images in 'images/test/O'.\n",
            "There are 0 directories and 240 images in 'images/test/F'.\n",
            "There are 0 directories and 240 images in 'images/test/P'.\n",
            "There are 0 directories and 240 images in 'images/test/9'.\n",
            "There are 0 directories and 240 images in 'images/test/Q'.\n",
            "There are 0 directories and 240 images in 'images/test/8'.\n",
            "There are 0 directories and 240 images in 'images/test/T'.\n",
            "There are 0 directories and 240 images in 'images/test/K'.\n",
            "There are 0 directories and 240 images in 'images/test/Z'.\n",
            "There are 0 directories and 240 images in 'images/test/S'.\n",
            "There are 0 directories and 240 images in 'images/test/J'.\n",
            "There are 0 directories and 290 images in 'images/test/C'.\n",
            "There are 0 directories and 258 images in 'images/test/V'.\n",
            "There are 0 directories and 240 images in 'images/test/3'.\n",
            "There are 0 directories and 240 images in 'images/test/1'.\n",
            "There are 0 directories and 240 images in 'images/test/A'.\n",
            "There are 0 directories and 240 images in 'images/test/L'.\n",
            "There are 0 directories and 240 images in 'images/test/D'.\n",
            "There are 0 directories and 240 images in 'images/test/R'.\n",
            "There are 0 directories and 240 images in 'images/test/X'.\n",
            "There are 0 directories and 240 images in 'images/test/E'.\n",
            "There are 0 directories and 240 images in 'images/test/N'.\n",
            "There are 0 directories and 240 images in 'images/test/2'.\n",
            "There are 0 directories and 240 images in 'images/test/W'.\n",
            "There are 0 directories and 240 images in 'images/test/G'.\n",
            "There are 0 directories and 240 images in 'images/test/5'.\n",
            "There are 0 directories and 240 images in 'images/test/7'.\n",
            "There are 0 directories and 240 images in 'images/test/4'.\n",
            "There are 0 directories and 276 images in 'images/test/I'.\n",
            "There are 0 directories and 240 images in 'images/test/Y'.\n",
            "There are 0 directories and 240 images in 'images/test/B'.\n",
            "There are 0 directories and 240 images in 'images/test/H'.\n",
            "There are 0 directories and 240 images in 'images/test/M'.\n",
            "There are 0 directories and 240 images in 'images/test/6'.\n",
            "There are 0 directories and 240 images in 'images/test/U'.\n",
            "There are 35 directories and 0 images in 'images/Indian'.\n",
            "There are 0 directories and 1429 images in 'images/Indian/O'.\n",
            "There are 0 directories and 1200 images in 'images/Indian/F'.\n",
            "There are 0 directories and 1200 images in 'images/Indian/P'.\n",
            "There are 0 directories and 1200 images in 'images/Indian/9'.\n",
            "There are 0 directories and 1200 images in 'images/Indian/Q'.\n",
            "There are 0 directories and 1200 images in 'images/Indian/8'.\n",
            "There are 0 directories and 1200 images in 'images/Indian/T'.\n",
            "There are 0 directories and 1200 images in 'images/Indian/K'.\n",
            "There are 0 directories and 1200 images in 'images/Indian/Z'.\n",
            "There are 0 directories and 1200 images in 'images/Indian/S'.\n",
            "There are 0 directories and 1200 images in 'images/Indian/J'.\n",
            "There are 0 directories and 1447 images in 'images/Indian/C'.\n",
            "There are 0 directories and 1290 images in 'images/Indian/V'.\n",
            "There are 0 directories and 1200 images in 'images/Indian/3'.\n",
            "There are 0 directories and 1200 images in 'images/Indian/1'.\n",
            "There are 0 directories and 1200 images in 'images/Indian/A'.\n",
            "There are 0 directories and 1200 images in 'images/Indian/L'.\n",
            "There are 0 directories and 1200 images in 'images/Indian/D'.\n",
            "There are 0 directories and 1200 images in 'images/Indian/R'.\n",
            "There are 0 directories and 1200 images in 'images/Indian/X'.\n",
            "There are 0 directories and 1200 images in 'images/Indian/E'.\n",
            "There are 0 directories and 1200 images in 'images/Indian/N'.\n",
            "There are 0 directories and 1200 images in 'images/Indian/2'.\n",
            "There are 0 directories and 1200 images in 'images/Indian/W'.\n",
            "There are 0 directories and 1200 images in 'images/Indian/G'.\n",
            "There are 0 directories and 1200 images in 'images/Indian/5'.\n",
            "There are 0 directories and 1200 images in 'images/Indian/7'.\n",
            "There are 0 directories and 1200 images in 'images/Indian/4'.\n",
            "There are 0 directories and 1379 images in 'images/Indian/I'.\n",
            "There are 0 directories and 1200 images in 'images/Indian/Y'.\n",
            "There are 0 directories and 1200 images in 'images/Indian/B'.\n",
            "There are 0 directories and 1200 images in 'images/Indian/H'.\n",
            "There are 0 directories and 1200 images in 'images/Indian/M'.\n",
            "There are 0 directories and 1200 images in 'images/Indian/6'.\n",
            "There are 0 directories and 1200 images in 'images/Indian/U'.\n",
            "There are 35 directories and 0 images in 'images/train'.\n",
            "There are 0 directories and 1143 images in 'images/train/O'.\n",
            "There are 0 directories and 960 images in 'images/train/F'.\n",
            "There are 0 directories and 960 images in 'images/train/P'.\n",
            "There are 0 directories and 960 images in 'images/train/9'.\n",
            "There are 0 directories and 960 images in 'images/train/Q'.\n",
            "There are 0 directories and 960 images in 'images/train/8'.\n",
            "There are 0 directories and 960 images in 'images/train/T'.\n",
            "There are 0 directories and 960 images in 'images/train/K'.\n",
            "There are 0 directories and 960 images in 'images/train/Z'.\n",
            "There are 0 directories and 960 images in 'images/train/S'.\n",
            "There are 0 directories and 960 images in 'images/train/J'.\n",
            "There are 0 directories and 1157 images in 'images/train/C'.\n",
            "There are 0 directories and 1032 images in 'images/train/V'.\n",
            "There are 0 directories and 960 images in 'images/train/3'.\n",
            "There are 0 directories and 960 images in 'images/train/1'.\n",
            "There are 0 directories and 960 images in 'images/train/A'.\n",
            "There are 0 directories and 960 images in 'images/train/L'.\n",
            "There are 0 directories and 960 images in 'images/train/D'.\n",
            "There are 0 directories and 960 images in 'images/train/R'.\n",
            "There are 0 directories and 960 images in 'images/train/X'.\n",
            "There are 0 directories and 960 images in 'images/train/E'.\n",
            "There are 0 directories and 960 images in 'images/train/N'.\n",
            "There are 0 directories and 960 images in 'images/train/2'.\n",
            "There are 0 directories and 960 images in 'images/train/W'.\n",
            "There are 0 directories and 960 images in 'images/train/G'.\n",
            "There are 0 directories and 960 images in 'images/train/5'.\n",
            "There are 0 directories and 960 images in 'images/train/7'.\n",
            "There are 0 directories and 960 images in 'images/train/4'.\n",
            "There are 0 directories and 1103 images in 'images/train/I'.\n",
            "There are 0 directories and 960 images in 'images/train/Y'.\n",
            "There are 0 directories and 960 images in 'images/train/B'.\n",
            "There are 0 directories and 960 images in 'images/train/H'.\n",
            "There are 0 directories and 960 images in 'images/train/M'.\n",
            "There are 0 directories and 960 images in 'images/train/6'.\n",
            "There are 0 directories and 960 images in 'images/train/U'.\n"
          ]
        }
      ]
    },
    {
      "cell_type": "code",
      "source": [
        "# Another way to find out images are in a file\n",
        "num_steak_images_train = len(os.listdir(\"/content/images/test/1\"))\n",
        "num_steak_images_train"
      ],
      "metadata": {
        "colab": {
          "base_uri": "https://localhost:8080/"
        },
        "id": "T3V6KiDB8zh8",
        "outputId": "6342bd4a-a3cb-475a-f59b-c172e39c58dc"
      },
      "execution_count": 18,
      "outputs": [
        {
          "output_type": "execute_result",
          "data": {
            "text/plain": [
              "240"
            ]
          },
          "metadata": {},
          "execution_count": 18
        }
      ]
    },
    {
      "cell_type": "markdown",
      "source": [
        "To visualise our images, first let's get the class names programmatically."
      ],
      "metadata": {
        "id": "uowPAT0_92SS"
      }
    },
    {
      "cell_type": "code",
      "source": [
        "# Get the classnames programmatically\n",
        "import pathlib\n",
        "import numpy as np\n",
        "data_dir = pathlib.Path(\"/content/images/train\")\n",
        "class_names = np.array(sorted([item.name for item in data_dir.glob(\"*\")]))\n",
        "# creates a list of class names from sub directories\n",
        "print(class_names)"
      ],
      "metadata": {
        "colab": {
          "base_uri": "https://localhost:8080/"
        },
        "id": "kuNEO6Ek9y4_",
        "outputId": "c59eb36c-65b6-426f-faac-11dfd8076b16"
      },
      "execution_count": 19,
      "outputs": [
        {
          "output_type": "stream",
          "name": "stdout",
          "text": [
            "['1' '2' '3' '4' '5' '6' '7' '8' '9' 'A' 'B' 'C' 'D' 'E' 'F' 'G' 'H' 'I'\n",
            " 'J' 'K' 'L' 'M' 'N' 'O' 'P' 'Q' 'R' 'S' 'T' 'U' 'V' 'W' 'X' 'Y' 'Z']\n"
          ]
        }
      ]
    },
    {
      "cell_type": "code",
      "source": [
        "# Let's visualise our images\n",
        "import matplotlib.pyplot as plt\n",
        "import matplotlib.image as mpimg\n",
        "import random\n",
        "\n",
        "def view_random_image(target_dir, target_class):\n",
        "  # Setup target directory (we'll view images from here)\n",
        "  target_folder = target_dir + \"/\" + target_class\n",
        "\n",
        "  # Get a random image path\n",
        "  random_image = random.sample(os.listdir(target_folder), 1)\n",
        "\n",
        "  # Read in the image and plot it using matplotlib\n",
        "  img = mpimg.imread(target_folder + \"/\" + random_image[0])\n",
        "  plt.imshow(img)\n",
        "  plt.title(target_class)\n",
        "  plt.axis(\"off\");\n",
        "\n",
        "  print(f\"Image shape: {img.shape}\") #show the shape of the image\n",
        "\n",
        "  return img"
      ],
      "metadata": {
        "id": "5rOJqjzN98IP"
      },
      "execution_count": 20,
      "outputs": []
    },
    {
      "cell_type": "code",
      "source": [
        "# View a random image from the training dataset\n",
        "img = view_random_image(target_dir=\"images/test\",\n",
        "                        target_class=\"1\")"
      ],
      "metadata": {
        "colab": {
          "base_uri": "https://localhost:8080/",
          "height": 445
        },
        "id": "wS7MXUTK-BBK",
        "outputId": "efcfa3e4-29f6-4c22-f258-aba7a1be1790"
      },
      "execution_count": 21,
      "outputs": [
        {
          "output_type": "stream",
          "name": "stdout",
          "text": [
            "Image shape: (224, 224, 3)\n"
          ]
        },
        {
          "output_type": "display_data",
          "data": {
            "text/plain": [
              "<Figure size 640x480 with 1 Axes>"
            ],
            "image/png": "[encoded data removed]"
          },
          "metadata": {}
        }
      ]
    },
    {
      "cell_type": "code",
      "source": [
        "# The images we've imported and plotted are actually giant arrays/tensors of different pixel values\n",
        "import tensorflow as tf\n",
        "tf.constant(img)"
      ],
      "metadata": {
        "colab": {
          "base_uri": "https://localhost:8080/"
        },
        "id": "jRQDYeuv-LdK",
        "outputId": "56f98b70-c4ba-4428-be4b-18151af0859d"
      },
      "execution_count": 22,
      "outputs": [
        {
          "output_type": "execute_result",
          "data": {
            "text/plain": [
              "<tf.Tensor: shape=(224, 224, 3), dtype=uint8, numpy=\n",
              "array([[[ 9,  9, 21],\n",
              "        [ 8,  8, 20],\n",
              "        [ 8,  8, 20],\n",
              "        ...,\n",
              "        [ 6, 21, 16],\n",
              "        [29, 46, 40],\n",
              "        [26, 43, 35]],\n",
              "\n",
              "       [[ 9,  9, 21],\n",
              "        [ 8,  8, 20],\n",
              "        [ 8,  8, 20],\n",
              "        ...,\n",
              "        [ 6, 21, 16],\n",
              "        [29, 46, 40],\n",
              "        [26, 43, 35]],\n",
              "\n",
              "       [[ 9,  9, 21],\n",
              "        [ 8,  8, 20],\n",
              "        [ 8,  8, 20],\n",
              "        ...,\n",
              "        [ 6, 21, 16],\n",
              "        [29, 46, 40],\n",
              "        [26, 43, 35]],\n",
              "\n",
              "       ...,\n",
              "\n",
              "       [[ 0, 12,  8],\n",
              "        [ 1, 13,  9],\n",
              "        [ 1, 13,  9],\n",
              "        ...,\n",
              "        [ 0, 23,  8],\n",
              "        [18, 46, 31],\n",
              "        [12, 43, 25]],\n",
              "\n",
              "       [[19, 34, 27],\n",
              "        [20, 35, 28],\n",
              "        [20, 35, 28],\n",
              "        ...,\n",
              "        [14, 42, 27],\n",
              "        [34, 65, 47],\n",
              "        [30, 63, 42]],\n",
              "\n",
              "       [[18, 33, 26],\n",
              "        [19, 34, 27],\n",
              "        [19, 34, 27],\n",
              "        ...,\n",
              "        [ 9, 40, 22],\n",
              "        [32, 63, 45],\n",
              "        [27, 60, 39]]], dtype=uint8)>"
            ]
          },
          "metadata": {},
          "execution_count": 22
        }
      ]
    },
    {
      "cell_type": "code",
      "source": [
        "# View the image shape\n",
        "img.shape #returns width, height, colors channels"
      ],
      "metadata": {
        "colab": {
          "base_uri": "https://localhost:8080/"
        },
        "id": "pbQ13ceg-2oI",
        "outputId": "0fb853ed-b4ad-4494-97aa-41e03d28180f"
      },
      "execution_count": 23,
      "outputs": [
        {
          "output_type": "execute_result",
          "data": {
            "text/plain": [
              "(224, 224, 3)"
            ]
          },
          "metadata": {},
          "execution_count": 23
        }
      ]
    },
    {
      "cell_type": "code",
      "source": [
        "# Get all the pixel values between 0 & 1\n",
        "img/255."
      ],
      "metadata": {
        "colab": {
          "base_uri": "https://localhost:8080/"
        },
        "id": "d16Y9sTS_JDp",
        "outputId": "4000e833-c945-40a9-9f5e-f131bd0feba2"
      },
      "execution_count": 24,
      "outputs": [
        {
          "output_type": "execute_result",
          "data": {
            "text/plain": [
              "array([[[0.03529412, 0.03529412, 0.08235294],\n",
              "        [0.03137255, 0.03137255, 0.07843137],\n",
              "        [0.03137255, 0.03137255, 0.07843137],\n",
              "        ...,\n",
              "        [0.02352941, 0.08235294, 0.0627451 ],\n",
              "        [0.11372549, 0.18039216, 0.15686275],\n",
              "        [0.10196078, 0.16862745, 0.1372549 ]],\n",
              "\n",
              "       [[0.03529412, 0.03529412, 0.08235294],\n",
              "        [0.03137255, 0.03137255, 0.07843137],\n",
              "        [0.03137255, 0.03137255, 0.07843137],\n",
              "        ...,\n",
              "        [0.02352941, 0.08235294, 0.0627451 ],\n",
              "        [0.11372549, 0.18039216, 0.15686275],\n",
              "        [0.10196078, 0.16862745, 0.1372549 ]],\n",
              "\n",
              "       [[0.03529412, 0.03529412, 0.08235294],\n",
              "        [0.03137255, 0.03137255, 0.07843137],\n",
              "        [0.03137255, 0.03137255, 0.07843137],\n",
              "        ...,\n",
              "        [0.02352941, 0.08235294, 0.0627451 ],\n",
              "        [0.11372549, 0.18039216, 0.15686275],\n",
              "        [0.10196078, 0.16862745, 0.1372549 ]],\n",
              "\n",
              "       ...,\n",
              "\n",
              "       [[0.        , 0.04705882, 0.03137255],\n",
              "        [0.00392157, 0.05098039, 0.03529412],\n",
              "        [0.00392157, 0.05098039, 0.03529412],\n",
              "        ...,\n",
              "        [0.        , 0.09019608, 0.03137255],\n",
              "        [0.07058824, 0.18039216, 0.12156863],\n",
              "        [0.04705882, 0.16862745, 0.09803922]],\n",
              "\n",
              "       [[0.0745098 , 0.13333333, 0.10588235],\n",
              "        [0.07843137, 0.1372549 , 0.10980392],\n",
              "        [0.07843137, 0.1372549 , 0.10980392],\n",
              "        ...,\n",
              "        [0.05490196, 0.16470588, 0.10588235],\n",
              "        [0.13333333, 0.25490196, 0.18431373],\n",
              "        [0.11764706, 0.24705882, 0.16470588]],\n",
              "\n",
              "       [[0.07058824, 0.12941176, 0.10196078],\n",
              "        [0.0745098 , 0.13333333, 0.10588235],\n",
              "        [0.0745098 , 0.13333333, 0.10588235],\n",
              "        ...,\n",
              "        [0.03529412, 0.15686275, 0.08627451],\n",
              "        [0.1254902 , 0.24705882, 0.17647059],\n",
              "        [0.10588235, 0.23529412, 0.15294118]]])"
            ]
          },
          "metadata": {},
          "execution_count": 24
        }
      ]
    },
    {
      "cell_type": "code",
      "source": [
        "import tensorflow as tf\n",
        "from tensorflow.keras import layers, models\n",
        "from tensorflow.keras.preprocessing.image import ImageDataGenerator\n",
        "\n",
        "# Define the CNN model\n",
        "def create_cnn_model(input_shape=(224, 224, 3), num_classes=35):  # Modify num_classes for your dataset\n",
        "    model = models.Sequential()\n",
        "\n",
        "    # Convolutional Layer 1\n",
        "    model.add(layers.Conv2D(32, (3, 3), activation='relu', input_shape=input_shape))\n",
        "    model.add(layers.MaxPooling2D((2, 2)))\n",
        "\n",
        "    # Convolutional Layer 2\n",
        "    model.add(layers.Conv2D(64, (3, 3), activation='relu'))\n",
        "    model.add(layers.MaxPooling2D((2, 2)))\n",
        "\n",
        "    # Convolutional Layer 3\n",
        "    model.add(layers.Conv2D(128, (3, 3), activation='relu'))\n",
        "    model.add(layers.MaxPooling2D((2, 2)))\n",
        "\n",
        "    # Flatten the output of the convolutional layers\n",
        "    model.add(layers.Flatten())\n",
        "\n",
        "    # Fully connected layer\n",
        "    model.add(layers.Dense(128, activation='relu'))\n",
        "\n",
        "    # Output layer with softmax activation\n",
        "    model.add(layers.Dense(num_classes, activation='softmax'))\n",
        "\n",
        "    return model\n",
        "\n",
        "# Create the model\n",
        "model = create_cnn_model(input_shape=(224, 224, 3), num_classes=35)  # Change num_classes as per your dataset\n",
        "\n",
        "# Compile the model\n",
        "model.compile(optimizer='adam',\n",
        "              loss='categorical_crossentropy',\n",
        "              metrics=['accuracy'])\n",
        "\n",
        "# Model summary\n",
        "model.summary()\n",
        "\n",
        "# Set up data augmentation and generators\n",
        "train_datagen = ImageDataGenerator(rescale=1./255,\n",
        "                                   rotation_range=20,\n",
        "                                   width_shift_range=0.2,\n",
        "                                   height_shift_range=0.2,\n",
        "                                   shear_range=0.2,\n",
        "                                   zoom_range=0.2,\n",
        "                                   horizontal_flip=True,\n",
        "                                   fill_mode='nearest')\n",
        "\n",
        "test_datagen = ImageDataGenerator(rescale=1./255)\n",
        "\n",
        "train_generator = train_datagen.flow_from_directory(\n",
        "    \"/content/images/train\",  # Replace with your train data directory\n",
        "    target_size=(224, 224),\n",
        "    batch_size=32,\n",
        "    class_mode='categorical')\n",
        "\n",
        "validation_generator = test_datagen.flow_from_directory(\n",
        "    \"/content/images/test\",  # Replace with your test data directory\n",
        "    target_size=(224, 224),\n",
        "    batch_size=32,\n",
        "    class_mode='categorical')\n",
        "\n",
        "# Train the model\n",
        "history = model.fit(\n",
        "    train_generator,\n",
        "    steps_per_epoch=train_generator.samples // train_generator.batch_size,\n",
        "    epochs=10,\n",
        "    validation_data=validation_generator,\n",
        "    validation_steps=validation_generator.samples // validation_generator.batch_size\n",
        ")\n",
        "\n",
        "# Save the model\n",
        "model.save('indian_sign_language_cnn_model.h5')"
      ],
      "metadata": {
        "colab": {
          "base_uri": "https://localhost:8080/",
          "height": 1000
        },
        "id": "beZI_QgrAV-F",
        "outputId": "1f72cfd2-8750-4468-a588-64fe1df45955"
      },
      "execution_count": 26,
      "outputs": [
        {
          "output_type": "stream",
          "name": "stdout",
          "text": [
            "\u001b[1m1068/1068\u001b[0m \u001b[32m━━━━━━━━━━━━━━━━━━━━\u001b[0m\u001b[37m\u001b[0m \u001b[1m436s\u001b[0m 371ms/step - accuracy: 0.9834 - loss: 0.0557 - val_accuracy: 0.9992 - val_loss: 0.0021\n",
            "Epoch 8/10\n",
            "\u001b[1m1068/1068\u001b[0m \u001b[32m━━━━━━━━━━━━━━━━━━━━\u001b[0m\u001b[37m\u001b[0m \u001b[1m10s\u001b[0m 9ms/step - accuracy: 1.0000 - loss: 0.0060 - val_accuracy: 1.0000 - val_loss: 4.1999e-04\n",
            "Epoch 9/10\n",
            "\u001b[1m1068/1068\u001b[0m \u001b[32m━━━━━━━━━━━━━━━━━━━━\u001b[0m\u001b[37m\u001b[0m \u001b[1m407s\u001b[0m 378ms/step - accuracy: 0.9896 - loss: 0.0346 - val_accuracy: 0.9992 - val_loss: 0.0037\n",
            "Epoch 10/10\n",
            "\u001b[1m1068/1068\u001b[0m \u001b[32m━━━━━━━━━━━━━━━━━━━━\u001b[0m\u001b[37m\u001b[0m \u001b[1m0s\u001b[0m 22us/step - accuracy: 1.0000 - loss: 0.0186 - val_accuracy: 1.0000 - val_loss: 0.1010\n"
          ]
        },
        {
          "output_type": "stream",
          "name": "stderr",
          "text": [
            "WARNING:absl:You are saving your model as an HDF5 file via `model.save()` or `keras.saving.save_model(model)`. This file format is considered legacy. We recommend using instead the native Keras format, e.g. `model.save('my_model.keras')` or `keras.saving.save_model(model, 'my_model.keras')`. \n",
            "/usr/local/lib/python3.10/dist-packages/keras/src/layers/convolutional/base_conv.py:107: UserWarning: Do not pass an `input_shape`/`input_dim` argument to a layer. When using Sequential models, prefer using an `Input(shape)` object as the first layer in the model instead.\n",
            "  super().__init__(activity_regularizer=activity_regularizer, **kwargs)\n"
          ]
        },
        {
          "output_type": "display_data",
          "data": {
            "text/plain": [
              "\u001b[1mModel: \"sequential_1\"\u001b[0m\n"
            ],
            "text/html": [
              "<pre style=\"white-space:pre;overflow-x:auto;line-height:normal;font-family:Menlo,'DejaVu Sans Mono',consolas,'Courier New',monospace\"><span style=\"font-weight: bold\">Model: \"sequential_1\"</span>\n",
              "</pre>\n"
            ]
          },
          "metadata": {}
        },
        {
          "output_type": "display_data",
          "data": {
            "text/plain": [
              "┏━━━━━━━━━━━━━━━━━━━━━━━━━━━━━━━━━━━━━━┳━━━━━━━━━━━━━━━━━━━━━━━━━━━━━┳━━━━━━━━━━━━━━━━━┓\n",
              "┃\u001b[1m \u001b[0m\u001b[1mLayer (type)                        \u001b[0m\u001b[1m \u001b[0m┃\u001b[1m \u001b[0m\u001b[1mOutput Shape               \u001b[0m\u001b[1m \u001b[0m┃\u001b[1m \u001b[0m\u001b[1m        Param #\u001b[0m\u001b[1m \u001b[0m┃\n",
              "┡━━━━━━━━━━━━━━━━━━━━━━━━━━━━━━━━━━━━━━╇━━━━━━━━━━━━━━━━━━━━━━━━━━━━━╇━━━━━━━━━━━━━━━━━┩\n",
              "│ conv2d_3 (\u001b[38;5;33mConv2D\u001b[0m)                    │ (\u001b[38;5;45mNone\u001b[0m, \u001b[38;5;34m222\u001b[0m, \u001b[38;5;34m222\u001b[0m, \u001b[38;5;34m32\u001b[0m)        │             \u001b[38;5;34m896\u001b[0m │\n",
              "├──────────────────────────────────────┼─────────────────────────────┼─────────────────┤\n",
              "│ max_pooling2d_3 (\u001b[38;5;33mMaxPooling2D\u001b[0m)       │ (\u001b[38;5;45mNone\u001b[0m, \u001b[38;5;34m111\u001b[0m, \u001b[38;5;34m111\u001b[0m, \u001b[38;5;34m32\u001b[0m)        │               \u001b[38;5;34m0\u001b[0m │\n",
              "├──────────────────────────────────────┼─────────────────────────────┼─────────────────┤\n",
              "│ conv2d_4 (\u001b[38;5;33mConv2D\u001b[0m)                    │ (\u001b[38;5;45mNone\u001b[0m, \u001b[38;5;34m109\u001b[0m, \u001b[38;5;34m109\u001b[0m, \u001b[38;5;34m64\u001b[0m)        │          \u001b[38;5;34m18,496\u001b[0m │\n",
              "├──────────────────────────────────────┼─────────────────────────────┼─────────────────┤\n",
              "│ max_pooling2d_4 (\u001b[38;5;33mMaxPooling2D\u001b[0m)       │ (\u001b[38;5;45mNone\u001b[0m, \u001b[38;5;34m54\u001b[0m, \u001b[38;5;34m54\u001b[0m, \u001b[38;5;34m64\u001b[0m)          │               \u001b[38;5;34m0\u001b[0m │\n",
              "├──────────────────────────────────────┼─────────────────────────────┼─────────────────┤\n",
              "│ conv2d_5 (\u001b[38;5;33mConv2D\u001b[0m)                    │ (\u001b[38;5;45mNone\u001b[0m, \u001b[38;5;34m52\u001b[0m, \u001b[38;5;34m52\u001b[0m, \u001b[38;5;34m128\u001b[0m)         │          \u001b[38;5;34m73,856\u001b[0m │\n",
              "├──────────────────────────────────────┼─────────────────────────────┼─────────────────┤\n",
              "│ max_pooling2d_5 (\u001b[38;5;33mMaxPooling2D\u001b[0m)       │ (\u001b[38;5;45mNone\u001b[0m, \u001b[38;5;34m26\u001b[0m, \u001b[38;5;34m26\u001b[0m, \u001b[38;5;34m128\u001b[0m)         │               \u001b[38;5;34m0\u001b[0m │\n",
              "├──────────────────────────────────────┼─────────────────────────────┼─────────────────┤\n",
              "│ flatten_1 (\u001b[38;5;33mFlatten\u001b[0m)                  │ (\u001b[38;5;45mNone\u001b[0m, \u001b[38;5;34m86528\u001b[0m)               │               \u001b[38;5;34m0\u001b[0m │\n",
              "├──────────────────────────────────────┼─────────────────────────────┼─────────────────┤\n",
              "│ dense_2 (\u001b[38;5;33mDense\u001b[0m)                      │ (\u001b[38;5;45mNone\u001b[0m, \u001b[38;5;34m128\u001b[0m)                 │      \u001b[38;5;34m11,075,712\u001b[0m │\n",
              "├──────────────────────────────────────┼─────────────────────────────┼─────────────────┤\n",
              "│ dense_3 (\u001b[38;5;33mDense\u001b[0m)                      │ (\u001b[38;5;45mNone\u001b[0m, \u001b[38;5;34m35\u001b[0m)                  │           \u001b[38;5;34m4,515\u001b[0m │\n",
              "└──────────────────────────────────────┴─────────────────────────────┴─────────────────┘\n"
            ],
            "text/html": [
              "<pre style=\"white-space:pre;overflow-x:auto;line-height:normal;font-family:Menlo,'DejaVu Sans Mono',consolas,'Courier New',monospace\">┏━━━━━━━━━━━━━━━━━━━━━━━━━━━━━━━━━━━━━━┳━━━━━━━━━━━━━━━━━━━━━━━━━━━━━┳━━━━━━━━━━━━━━━━━┓\n",
              "┃<span style=\"font-weight: bold\"> Layer (type)                         </span>┃<span style=\"font-weight: bold\"> Output Shape                </span>┃<span style=\"font-weight: bold\">         Param # </span>┃\n",
              "┡━━━━━━━━━━━━━━━━━━━━━━━━━━━━━━━━━━━━━━╇━━━━━━━━━━━━━━━━━━━━━━━━━━━━━╇━━━━━━━━━━━━━━━━━┩\n",
              "│ conv2d_3 (<span style=\"color: #0087ff; text-decoration-color: #0087ff\">Conv2D</span>)                    │ (<span style=\"color: #00d7ff; text-decoration-color: #00d7ff\">None</span>, <span style=\"color: #00af00; text-decoration-color: #00af00\">222</span>, <span style=\"color: #00af00; text-decoration-color: #00af00\">222</span>, <span style=\"color: #00af00; text-decoration-color: #00af00\">32</span>)        │             <span style=\"color: #00af00; text-decoration-color: #00af00\">896</span> │\n",
              "├──────────────────────────────────────┼─────────────────────────────┼─────────────────┤\n",
              "│ max_pooling2d_3 (<span style=\"color: #0087ff; text-decoration-color: #0087ff\">MaxPooling2D</span>)       │ (<span style=\"color: #00d7ff; text-decoration-color: #00d7ff\">None</span>, <span style=\"color: #00af00; text-decoration-color: #00af00\">111</span>, <span style=\"color: #00af00; text-decoration-color: #00af00\">111</span>, <span style=\"color: #00af00; text-decoration-color: #00af00\">32</span>)        │               <span style=\"color: #00af00; text-decoration-color: #00af00\">0</span> │\n",
              "├──────────────────────────────────────┼─────────────────────────────┼─────────────────┤\n",
              "│ conv2d_4 (<span style=\"color: #0087ff; text-decoration-color: #0087ff\">Conv2D</span>)                    │ (<span style=\"color: #00d7ff; text-decoration-color: #00d7ff\">None</span>, <span style=\"color: #00af00; text-decoration-color: #00af00\">109</span>, <span style=\"color: #00af00; text-decoration-color: #00af00\">109</span>, <span style=\"color: #00af00; text-decoration-color: #00af00\">64</span>)        │          <span style=\"color: #00af00; text-decoration-color: #00af00\">18,496</span> │\n",
              "├──────────────────────────────────────┼─────────────────────────────┼─────────────────┤\n",
              "│ max_pooling2d_4 (<span style=\"color: #0087ff; text-decoration-color: #0087ff\">MaxPooling2D</span>)       │ (<span style=\"color: #00d7ff; text-decoration-color: #00d7ff\">None</span>, <span style=\"color: #00af00; text-decoration-color: #00af00\">54</span>, <span style=\"color: #00af00; text-decoration-color: #00af00\">54</span>, <span style=\"color: #00af00; text-decoration-color: #00af00\">64</span>)          │               <span style=\"color: #00af00; text-decoration-color: #00af00\">0</span> │\n",
              "├──────────────────────────────────────┼─────────────────────────────┼─────────────────┤\n",
              "│ conv2d_5 (<span style=\"color: #0087ff; text-decoration-color: #0087ff\">Conv2D</span>)                    │ (<span style=\"color: #00d7ff; text-decoration-color: #00d7ff\">None</span>, <span style=\"color: #00af00; text-decoration-color: #00af00\">52</span>, <span style=\"color: #00af00; text-decoration-color: #00af00\">52</span>, <span style=\"color: #00af00; text-decoration-color: #00af00\">128</span>)         │          <span style=\"color: #00af00; text-decoration-color: #00af00\">73,856</span> │\n",
              "├──────────────────────────────────────┼─────────────────────────────┼─────────────────┤\n",
              "│ max_pooling2d_5 (<span style=\"color: #0087ff; text-decoration-color: #0087ff\">MaxPooling2D</span>)       │ (<span style=\"color: #00d7ff; text-decoration-color: #00d7ff\">None</span>, <span style=\"color: #00af00; text-decoration-color: #00af00\">26</span>, <span style=\"color: #00af00; text-decoration-color: #00af00\">26</span>, <span style=\"color: #00af00; text-decoration-color: #00af00\">128</span>)         │               <span style=\"color: #00af00; text-decoration-color: #00af00\">0</span> │\n",
              "├──────────────────────────────────────┼─────────────────────────────┼─────────────────┤\n",
              "│ flatten_1 (<span style=\"color: #0087ff; text-decoration-color: #0087ff\">Flatten</span>)                  │ (<span style=\"color: #00d7ff; text-decoration-color: #00d7ff\">None</span>, <span style=\"color: #00af00; text-decoration-color: #00af00\">86528</span>)               │               <span style=\"color: #00af00; text-decoration-color: #00af00\">0</span> │\n",
              "├──────────────────────────────────────┼─────────────────────────────┼─────────────────┤\n",
              "│ dense_2 (<span style=\"color: #0087ff; text-decoration-color: #0087ff\">Dense</span>)                      │ (<span style=\"color: #00d7ff; text-decoration-color: #00d7ff\">None</span>, <span style=\"color: #00af00; text-decoration-color: #00af00\">128</span>)                 │      <span style=\"color: #00af00; text-decoration-color: #00af00\">11,075,712</span> │\n",
              "├──────────────────────────────────────┼─────────────────────────────┼─────────────────┤\n",
              "│ dense_3 (<span style=\"color: #0087ff; text-decoration-color: #0087ff\">Dense</span>)                      │ (<span style=\"color: #00d7ff; text-decoration-color: #00d7ff\">None</span>, <span style=\"color: #00af00; text-decoration-color: #00af00\">35</span>)                  │           <span style=\"color: #00af00; text-decoration-color: #00af00\">4,515</span> │\n",
              "└──────────────────────────────────────┴─────────────────────────────┴─────────────────┘\n",
              "</pre>\n"
            ]
          },
          "metadata": {}
        },
        {
          "output_type": "display_data",
          "data": {
            "text/plain": [
              "\u001b[1m Total params: \u001b[0m\u001b[38;5;34m11,173,475\u001b[0m (42.62 MB)\n"
            ],
            "text/html": [
              "<pre style=\"white-space:pre;overflow-x:auto;line-height:normal;font-family:Menlo,'DejaVu Sans Mono',consolas,'Courier New',monospace\"><span style=\"font-weight: bold\"> Total params: </span><span style=\"color: #00af00; text-decoration-color: #00af00\">11,173,475</span> (42.62 MB)\n",
              "</pre>\n"
            ]
          },
          "metadata": {}
        },
        {
          "output_type": "display_data",
          "data": {
            "text/plain": [
              "\u001b[1m Trainable params: \u001b[0m\u001b[38;5;34m11,173,475\u001b[0m (42.62 MB)\n"
            ],
            "text/html": [
              "<pre style=\"white-space:pre;overflow-x:auto;line-height:normal;font-family:Menlo,'DejaVu Sans Mono',consolas,'Courier New',monospace\"><span style=\"font-weight: bold\"> Trainable params: </span><span style=\"color: #00af00; text-decoration-color: #00af00\">11,173,475</span> (42.62 MB)\n",
              "</pre>\n"
            ]
          },
          "metadata": {}
        },
        {
          "output_type": "display_data",
          "data": {
            "text/plain": [
              "\u001b[1m Non-trainable params: \u001b[0m\u001b[38;5;34m0\u001b[0m (0.00 B)\n"
            ],
            "text/html": [
              "<pre style=\"white-space:pre;overflow-x:auto;line-height:normal;font-family:Menlo,'DejaVu Sans Mono',consolas,'Courier New',monospace\"><span style=\"font-weight: bold\"> Non-trainable params: </span><span style=\"color: #00af00; text-decoration-color: #00af00\">0</span> (0.00 B)\n",
              "</pre>\n"
            ]
          },
          "metadata": {}
        },
        {
          "output_type": "stream",
          "name": "stdout",
          "text": [
            "Found 34195 images belonging to 35 classes.\n",
            "Found 8550 images belonging to 35 classes.\n",
            "Epoch 1/10\n",
            "\u001b[1m1068/1068\u001b[0m \u001b[32m━━━━━━━━━━━━━━━━━━━━\u001b[0m\u001b[37m\u001b[0m \u001b[1m410s\u001b[0m 378ms/step - accuracy: 0.6373 - loss: 1.2753 - val_accuracy: 0.9946 - val_loss: 0.0198\n",
            "Epoch 2/10\n",
            "\u001b[1m1068/1068\u001b[0m \u001b[32m━━━━━━━━━━━━━━━━━━━━\u001b[0m\u001b[37m\u001b[0m \u001b[1m0s\u001b[0m 392us/step - accuracy: 0.9688 - loss: 0.1232 - val_accuracy: 1.0000 - val_loss: 5.8954e-04\n",
            "Epoch 3/10\n",
            "\u001b[1m1068/1068\u001b[0m \u001b[32m━━━━━━━━━━━━━━━━━━━━\u001b[0m\u001b[37m\u001b[0m \u001b[1m435s\u001b[0m 374ms/step - accuracy: 0.9709 - loss: 0.0993 - val_accuracy: 0.9950 - val_loss: 0.0186\n",
            "Epoch 4/10\n",
            "\u001b[1m1068/1068\u001b[0m \u001b[32m━━━━━━━━━━━━━━━━━━━━\u001b[0m\u001b[37m\u001b[0m \u001b[1m0s\u001b[0m 18us/step - accuracy: 1.0000 - loss: 0.0013 - val_accuracy: 1.0000 - val_loss: 9.1327e-04\n",
            "Epoch 5/10\n",
            "\u001b[1m1068/1068\u001b[0m \u001b[32m━━━━━━━━━━━━━━━━━━━━\u001b[0m\u001b[37m\u001b[0m \u001b[1m445s\u001b[0m 377ms/step - accuracy: 0.9836 - loss: 0.0532 - val_accuracy: 0.9972 - val_loss: 0.0069\n",
            "Epoch 6/10\n",
            "\u001b[1m1068/1068\u001b[0m \u001b[32m━━━━━━━━━━━━━━━━━━━━\u001b[0m\u001b[37m\u001b[0m \u001b[1m0s\u001b[0m 22us/step - accuracy: 1.0000 - loss: 0.0018 - val_accuracy: 1.0000 - val_loss: 4.7582e-05\n",
            "Epoch 7/10\n",
            "\u001b[1m1068/1068\u001b[0m \u001b[32m━━━━━━━━━━━━━━━━━━━━\u001b[0m\u001b[37m\u001b[0m \u001b[1m438s\u001b[0m 373ms/step - accuracy: 0.9797 - loss: 0.0665 - val_accuracy: 0.9994 - val_loss: 0.0018\n",
            "Epoch 8/10\n",
            "\u001b[1m1068/1068\u001b[0m \u001b[32m━━━━━━━━━━━━━━━━━━━━\u001b[0m\u001b[37m\u001b[0m \u001b[1m0s\u001b[0m 21us/step - accuracy: 1.0000 - loss: 7.1507e-04 - val_accuracy: 1.0000 - val_loss: 1.5497e-06\n",
            "Epoch 9/10\n",
            "\u001b[1m1068/1068\u001b[0m \u001b[32m━━━━━━━━━━━━━━━━━━━━\u001b[0m\u001b[37m\u001b[0m \u001b[1m443s\u001b[0m 374ms/step - accuracy: 0.9930 - loss: 0.0240 - val_accuracy: 0.9979 - val_loss: 0.0053\n",
            "Epoch 10/10\n",
            "\u001b[1m1068/1068\u001b[0m \u001b[32m━━━━━━━━━━━━━━━━━━━━\u001b[0m\u001b[37m\u001b[0m \u001b[1m0s\u001b[0m 20us/step - accuracy: 1.0000 - loss: 3.8581e-04 - val_accuracy: 1.0000 - val_loss: 1.9868e-07\n"
          ]
        },
        {
          "output_type": "stream",
          "name": "stderr",
          "text": [
            "WARNING:absl:You are saving your model as an HDF5 file via `model.save()` or `keras.saving.save_model(model)`. This file format is considered legacy. We recommend using instead the native Keras format, e.g. `model.save('my_model.keras')` or `keras.saving.save_model(model, 'my_model.keras')`. \n"
          ]
        }
      ]
    },
    {
      "cell_type": "code",
      "source": [],
      "metadata": {
        "id": "wWmjmyytAtpb"
      },
      "execution_count": null,
      "outputs": []
    }
  ]
}